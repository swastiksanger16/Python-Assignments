{
 "cells": [
  {
   "cell_type": "code",
   "execution_count": 3,
   "id": "9e65b257",
   "metadata": {},
   "outputs": [
    {
     "name": "stdout",
     "output_type": "stream",
     "text": [
      "Squares of list [1, 2, 3, 4, 5] : [1, 4, 9, 16, 25]\n",
      "Squares of list [17, 8, 4, 25, 36, 9, 12, 31] : [289, 64, 16, 625, 1296, 81, 144, 961]\n"
     ]
    }
   ],
   "source": [
    "#1.Turn the following snippet into a function:\n",
    "\n",
    "def compute_squares(nums: list[int]) -> list[int]:\n",
    "    \"\"\"Returns the squares of the elements in the list.\n",
    "\n",
    "    Args:\n",
    "        nums (list[int]): list of integers\n",
    "\n",
    "    Returns:\n",
    "        _type_: list[int]: list of integers\n",
    "    \"\"\"\n",
    "    sq_nums=[]\n",
    "    for n in nums:\n",
    "        sq_nums.append(n*n)\n",
    "    return sq_nums\n",
    "\n",
    "if __name__==\"__main__\":\n",
    "    lst1=[1,2,3,4,5]\n",
    "    lst2=[17,8,4,25,36,9,12,31]\n",
    "    print(f\"Squares of list {lst1} : {compute_squares(lst1)}\")\n",
    "    print(f\"Squares of list {lst2} : {compute_squares(lst2)}\")\n",
    "    "
   ]
  },
  {
   "cell_type": "code",
   "execution_count": null,
   "id": "d92eb6af",
   "metadata": {},
   "outputs": [
    {
     "name": "stdout",
     "output_type": "stream",
     "text": [
      "['This file is test file.\\n', 'Used in task 2']\n",
      "The file test_file.txt contains 2 lines.\n"
     ]
    }
   ],
   "source": [
    "'''2.Write a function that reads a text file and returns its\n",
    "lines.'''\n",
    "\n",
    "def read_file(file:str):\n",
    "    \"\"\"\n",
    "    This function takes file name as input and prints its content.\n",
    "\n",
    "    Args:\n",
    "        file (str): Name of the file with extension.\n",
    "\n",
    "    \"\"\"\n",
    "    \n",
    "    try:\n",
    "        with open(file,\"r\") as f:\n",
    "            content=f.readlines()\n",
    "            print(content)\n",
    "            print(f\"The file {file} contains {len(content)} lines.\")\n",
    "    except FileNotFoundError:\n",
    "        print(f\"Error: The file {file} was not found. Please check the filename or its location.\")\n",
    "    \n",
    "\n",
    "def main():\n",
    "    file=input(\"Enter File Name with Extension: \")\n",
    "    read_file(file)\n",
    "\n",
    "if __name__==\"__main__\":\n",
    "    #Program execution starts here\n",
    "    main()"
   ]
  }
 ],
 "metadata": {
  "kernelspec": {
   "display_name": ".venv",
   "language": "python",
   "name": "python3"
  },
  "language_info": {
   "codemirror_mode": {
    "name": "ipython",
    "version": 3
   },
   "file_extension": ".py",
   "mimetype": "text/x-python",
   "name": "python",
   "nbconvert_exporter": "python",
   "pygments_lexer": "ipython3",
   "version": "3.11.3"
  }
 },
 "nbformat": 4,
 "nbformat_minor": 5
}
