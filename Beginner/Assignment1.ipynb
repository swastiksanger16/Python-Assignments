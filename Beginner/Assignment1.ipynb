{
 "cells": [
  {
   "cell_type": "code",
   "execution_count": 1,
   "id": "8cc22b42",
   "metadata": {},
   "outputs": [
    {
     "name": "stdout",
     "output_type": "stream",
     "text": [
      "BRUDITE - NIRVANA\n"
     ]
    }
   ],
   "source": [
    "'''\n",
    "Q1. Write a program in Python to perform the following\n",
    "operation:\n",
    "If a number is divisible by 3 it should print “SKILLBREW”\n",
    "as a string\n",
    "If a number is divisible by 5 it should print “BRUDITE” as a\n",
    "string\n",
    "If a number is divisible by both 3 and 5 it should print\n",
    "“BRUDITE - NIRVANA” as a string.\n",
    "'''\n",
    "\n",
    "num=int(input(\"Enter a Number: \"))\n",
    "if(num%3==0):\n",
    "    if(num%5==0):\n",
    "        print(\"BRUDITE - NIRVANA\")\n",
    "    else:\n",
    "        print(\"SKILLBREW\")\n",
    "elif(num%5==0):\n",
    "    print(\"BRUDITE\") \n",
    "else:\n",
    "    print(\"Number is not divisible by both 3 and 5\")\n"
   ]
  },
  {
   "cell_type": "code",
   "execution_count": 2,
   "id": "91988634",
   "metadata": {},
   "outputs": [
    {
     "name": "stdout",
     "output_type": "stream",
     "text": [
      "String is : Brudite123\n",
      "Letters: 7 and Digits: 3\n"
     ]
    }
   ],
   "source": [
    "'''\n",
    "Q2. Write a program that accepts a string as input from\n",
    "the user and calculates the number of digits and\n",
    "letters.\n",
    "'''\n",
    "\n",
    "lett=0\n",
    "dig=0\n",
    "str1=input(\"Enter String: \")\n",
    "\n",
    "for i in str1:\n",
    "    if(i.isalpha()):\n",
    "        lett+=1\n",
    "    elif(i.isnumeric()):\n",
    "        dig+=1\n",
    "        \n",
    "print(f\"String is : {str1}\")\n",
    "print(f\"Letters: {lett} and Digits: {dig}\")"
   ]
  },
  {
   "cell_type": "code",
   "execution_count": 5,
   "id": "0742955f",
   "metadata": {},
   "outputs": [
    {
     "name": "stdout",
     "output_type": "stream",
     "text": [
      "Enter Your Marks (Physics, Chemistry, Biology, Mathematics,and Computer) : \n",
      "Your Percentage: 83.40 and Your Grade: B\n"
     ]
    }
   ],
   "source": [
    "'''Q3. Write a Python program to input marks for five\n",
    "subjects Physics, Chemistry, Biology, Mathematics,\n",
    "and Computer. Calculate the percentage and grade\n",
    "according to the following:\n",
    "Percentage >= 90% : Grade A\n",
    "Percentage >= 80% : Grade B\n",
    "Percentage >= 70% : Grade C\n",
    "Percentage >= 60% : Grade D\n",
    "Percentage >= 40% : Grade E\n",
    "Percentage < 40% : Grade F\n",
    "'''\n",
    "\n",
    "def calc_Percent(phy:int,chem:int,bio:int,math:int,comp:int):\n",
    "    return ((phy+chem+bio+math+comp)/500)*100\n",
    "\n",
    "def calc_Grade(percent:float):\n",
    "    if(percent >=90):\n",
    "        return(\"A\")\n",
    "    elif(percent >=80):\n",
    "        return(\"B\")\n",
    "    elif(percent >=70):\n",
    "        return(\"C\")\n",
    "    elif(percent >=60):\n",
    "        return(\"D\")\n",
    "    elif(percent >=40):\n",
    "        return(\"E\")\n",
    "    else:\n",
    "        return(\"F\")\n",
    "\n",
    "#Input from User\n",
    "print(\"Enter Your Marks (Physics, Chemistry, Biology, Mathematics,and Computer) : \")\n",
    "phy=int(input())\n",
    "chem=int(input())\n",
    "bio=int(input())\n",
    "math=int(input())\n",
    "comp=int(input())\n",
    "\n",
    "percent=calc_Percent(phy,chem,bio,math,comp)\n",
    "grade=calc_Grade(percent)\n",
    "\n",
    "print(f\"Your Percentage: {percent:.2f} and Your Grade: {grade}\")\n"
   ]
  }
 ],
 "metadata": {
  "kernelspec": {
   "display_name": ".venv",
   "language": "python",
   "name": "python3"
  },
  "language_info": {
   "codemirror_mode": {
    "name": "ipython",
    "version": 3
   },
   "file_extension": ".py",
   "mimetype": "text/x-python",
   "name": "python",
   "nbconvert_exporter": "python",
   "pygments_lexer": "ipython3",
   "version": "3.11.3"
  }
 },
 "nbformat": 4,
 "nbformat_minor": 5
}
