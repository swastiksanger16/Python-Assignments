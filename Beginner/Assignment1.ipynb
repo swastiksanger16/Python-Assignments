{
 "cells": [
  {
   "cell_type": "code",
   "execution_count": 1,
   "id": "8cc22b42",
   "metadata": {},
   "outputs": [
    {
     "name": "stdout",
     "output_type": "stream",
     "text": [
      "BRUDITE - NIRVANA\n"
     ]
    }
   ],
   "source": [
    "'''\n",
    "Q1. Write a program in Python to perform the following\n",
    "operation:\n",
    "If a number is divisible by 3 it should print “SKILLBREW”\n",
    "as a string\n",
    "If a number is divisible by 5 it should print “BRUDITE” as a\n",
    "string\n",
    "If a number is divisible by both 3 and 5 it should print\n",
    "“BRUDITE - NIRVANA” as a string.\n",
    "'''\n",
    "\n",
    "num=int(input(\"Enter a Number: \"))\n",
    "if(num%3==0):\n",
    "    if(num%5==0):\n",
    "        print(\"BRUDITE - NIRVANA\")\n",
    "    else:\n",
    "        print(\"SKILLBREW\")\n",
    "elif(num%5==0):\n",
    "    print(\"BRUDITE\") \n",
    "else:\n",
    "    print(\"Number is not divisible by both 3 and 5\")\n"
   ]
  }
 ],
 "metadata": {
  "kernelspec": {
   "display_name": ".venv",
   "language": "python",
   "name": "python3"
  },
  "language_info": {
   "codemirror_mode": {
    "name": "ipython",
    "version": 3
   },
   "file_extension": ".py",
   "mimetype": "text/x-python",
   "name": "python",
   "nbconvert_exporter": "python",
   "pygments_lexer": "ipython3",
   "version": "3.11.3"
  }
 },
 "nbformat": 4,
 "nbformat_minor": 5
}
