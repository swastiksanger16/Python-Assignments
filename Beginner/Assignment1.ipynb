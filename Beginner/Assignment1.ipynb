{
 "cells": [
  {
   "cell_type": "code",
   "execution_count": 1,
   "id": "8cc22b42",
   "metadata": {},
   "outputs": [
    {
     "name": "stdout",
     "output_type": "stream",
     "text": [
      "BRUDITE - NIRVANA\n"
     ]
    }
   ],
   "source": [
    "'''\n",
    "Q1. Write a program in Python to perform the following\n",
    "operation:\n",
    "If a number is divisible by 3 it should print “SKILLBREW”\n",
    "as a string\n",
    "If a number is divisible by 5 it should print “BRUDITE” as a\n",
    "string\n",
    "If a number is divisible by both 3 and 5 it should print\n",
    "“BRUDITE - NIRVANA” as a string.\n",
    "'''\n",
    "\n",
    "num=int(input(\"Enter a Number: \"))\n",
    "if(num%3==0):\n",
    "    if(num%5==0):\n",
    "        print(\"BRUDITE - NIRVANA\")\n",
    "    else:\n",
    "        print(\"SKILLBREW\")\n",
    "elif(num%5==0):\n",
    "    print(\"BRUDITE\") \n",
    "else:\n",
    "    print(\"Number is not divisible by both 3 and 5\")\n"
   ]
  },
  {
   "cell_type": "code",
   "execution_count": 2,
   "id": "91988634",
   "metadata": {},
   "outputs": [
    {
     "name": "stdout",
     "output_type": "stream",
     "text": [
      "String is : Brudite123\n",
      "Letters: 7 and Digits: 3\n"
     ]
    }
   ],
   "source": [
    "'''\n",
    "Q2. Write a program that accepts a string as input from\n",
    "the user and calculates the number of digits and\n",
    "letters.\n",
    "'''\n",
    "\n",
    "lett=0\n",
    "dig=0\n",
    "str1=input(\"Enter String: \")\n",
    "\n",
    "for i in str1:\n",
    "    if(i.isalpha()):\n",
    "        lett+=1\n",
    "    elif(i.isnumeric()):\n",
    "        dig+=1\n",
    "        \n",
    "print(f\"String is : {str1}\")\n",
    "print(f\"Letters: {lett} and Digits: {dig}\")"
   ]
  },
  {
   "cell_type": "code",
   "execution_count": 5,
   "id": "0742955f",
   "metadata": {},
   "outputs": [
    {
     "name": "stdout",
     "output_type": "stream",
     "text": [
      "Enter Your Marks (Physics, Chemistry, Biology, Mathematics,and Computer) : \n",
      "Your Percentage: 83.40 and Your Grade: B\n"
     ]
    }
   ],
   "source": [
    "'''Q3. Write a Python program to input marks for five\n",
    "subjects Physics, Chemistry, Biology, Mathematics,\n",
    "and Computer. Calculate the percentage and grade\n",
    "according to the following:\n",
    "Percentage >= 90% : Grade A\n",
    "Percentage >= 80% : Grade B\n",
    "Percentage >= 70% : Grade C\n",
    "Percentage >= 60% : Grade D\n",
    "Percentage >= 40% : Grade E\n",
    "Percentage < 40% : Grade F\n",
    "'''\n",
    "\n",
    "def calc_Percent(phy:int,chem:int,bio:int,math:int,comp:int):\n",
    "    return ((phy+chem+bio+math+comp)/500)*100\n",
    "\n",
    "def calc_Grade(percent:float):\n",
    "    if(percent >=90):\n",
    "        return(\"A\")\n",
    "    elif(percent >=80):\n",
    "        return(\"B\")\n",
    "    elif(percent >=70):\n",
    "        return(\"C\")\n",
    "    elif(percent >=60):\n",
    "        return(\"D\")\n",
    "    elif(percent >=40):\n",
    "        return(\"E\")\n",
    "    else:\n",
    "        return(\"F\")\n",
    "\n",
    "#Input from User\n",
    "print(\"Enter Your Marks (Physics, Chemistry, Biology, Mathematics,and Computer) : \")\n",
    "phy=int(input())\n",
    "chem=int(input())\n",
    "bio=int(input())\n",
    "math=int(input())\n",
    "comp=int(input())\n",
    "\n",
    "percent=calc_Percent(phy,chem,bio,math,comp)\n",
    "grade=calc_Grade(percent)\n",
    "\n",
    "print(f\"Your Percentage: {percent:.2f} and Your Grade: {grade}\")\n"
   ]
  },
  {
   "cell_type": "code",
   "execution_count": 7,
   "id": "2d87ad62",
   "metadata": {},
   "outputs": [
    {
     "name": "stdout",
     "output_type": "stream",
     "text": [
      "Sum of all odd numbers between 45 and 89 : 1541\n"
     ]
    }
   ],
   "source": [
    "'''Q4. Write a Python program to find the sum of all odd\n",
    "numbers between two given numbers.'''\n",
    "\n",
    "start=int(input(\"Enter Start Value: \"))\n",
    "stop=int(input(\"Enter Stop Value: \"))\n",
    "sum=0\n",
    "\n",
    "if(start<stop):\n",
    "    for i in range(start,stop+1):\n",
    "        if(i%2!=0):\n",
    "            sum+=i\n",
    "elif(stop<start):\n",
    "    for i in range(stop,start+1):\n",
    "        if(i%2!=0):\n",
    "            sum+=i\n",
    "else:\n",
    "    print(\"Both Start and Stop Vlaue are same.\")\n",
    "    \n",
    "print(f\"Sum of all odd numbers between {start} and {stop} : {sum}\")"
   ]
  },
  {
   "cell_type": "code",
   "execution_count": 8,
   "id": "3f471fc8",
   "metadata": {},
   "outputs": [
    {
     "name": "stdout",
     "output_type": "stream",
     "text": [
      "Factorial of 5 is : 120\n"
     ]
    }
   ],
   "source": [
    "'''\n",
    "Q5. Write a Python program to find the factorial of a\n",
    "number using a for loop.\n",
    "'''\n",
    "\n",
    "def factorial(num:int):\n",
    "    \n",
    "    fact=1\n",
    "    \n",
    "    if(num==0 or num==1):\n",
    "        return fact\n",
    "    elif(num<0):\n",
    "        return -1   #Not Defined\n",
    "    else:\n",
    "        for i in range(2,num+1):\n",
    "            fact*=i\n",
    "        \n",
    "    return fact\n",
    "\n",
    "num=int(input(\"Enter the Number: \"))\n",
    "print(f\"Factorial of {num} is : {factorial(num)}\")"
   ]
  },
  {
   "cell_type": "code",
   "execution_count": 9,
   "id": "cf1aee61",
   "metadata": {},
   "outputs": [
    {
     "name": "stdout",
     "output_type": "stream",
     "text": [
      "The given number 28 is Perfect Number\n"
     ]
    }
   ],
   "source": [
    "'''Q6.  Write a Python program to check if a given number\n",
    "is a perfect number.\n",
    "A Perfect number is a positive integer that is equal to the\n",
    "sum of its proper divisors. For instance, 6 has divisors 1, 2,\n",
    "and 3, and 1 + 2 + 3 = 6, so 6 is a perfect number.\n",
    "'''\n",
    "\n",
    "def is_Perfect(num:int):\n",
    "    check=0\n",
    "    for i in range(1,num):\n",
    "        if(num%i==0):\n",
    "            check+=i\n",
    "    if(check==num):\n",
    "        return(\"Perfect Number\")\n",
    "    else:\n",
    "        return(\"Not a Perfect Number\")\n",
    "\n",
    "num=int(input(\"Enter a Number: \"))\n",
    "print(f\"The given number {num} is {is_Perfect(num)}\")\n",
    "\n"
   ]
  },
  {
   "cell_type": "code",
   "execution_count": 15,
   "id": "98af5054",
   "metadata": {},
   "outputs": [
    {
     "name": "stdout",
     "output_type": "stream",
     "text": [
      "True\n"
     ]
    }
   ],
   "source": [
    "'''Q7. Write a Python program to check if a string is an\n",
    "anagram of another string.'''\n",
    "\n",
    "def is_anagram(a:str,b:str):\n",
    "    a=a.replace(\" \",\"\").lower()\n",
    "    b=b.replace(\" \",\"\").lower()\n",
    "    \n",
    "    if(sorted(a)==sorted(b)):\n",
    "        return True\n",
    "    else:\n",
    "        return False\n",
    "\n",
    "str1=input(\"Enter First String: \")\n",
    "str2=input(\"Enter Second String: \")\n",
    "\n",
    "print(is_anagram(str1,str2))\n",
    "\n"
   ]
  },
  {
   "cell_type": "code",
   "execution_count": 10,
   "id": "db3d1c24",
   "metadata": {},
   "outputs": [
    {
     "name": "stdout",
     "output_type": "stream",
     "text": [
      "LCM of 12 and 18 is 36\n"
     ]
    }
   ],
   "source": [
    "'''Q8. Write a Python program to calculate the LCM (Least\n",
    "Common Multiple) of two numbers.'''\n",
    "\n",
    "#Euclidean Formula\n",
    "def HCF(a:int,b:int):\n",
    "    while(b!=0):\n",
    "        temp=b\n",
    "        b=a%b\n",
    "        a=temp\n",
    "    return a\n",
    "\n",
    "def LCM(a:int,b:int):\n",
    "    return int((a*b)/HCF(a,b))\n",
    "\n",
    "num1=int(input(\"Enter first Number: \"))\n",
    "num2=int(input(\"Enter second Number: \"))\n",
    "\n",
    "print(f\"LCM of {num1} and {num2} is {LCM(num1,num2)}\")\n",
    "\n"
   ]
  },
  {
   "cell_type": "code",
   "execution_count": 11,
   "id": "1cb4d266",
   "metadata": {},
   "outputs": [
    {
     "name": "stdout",
     "output_type": "stream",
     "text": [
      "{1: 2, 2: 3, 3: 1, 4: 2, 5: 1}\n"
     ]
    }
   ],
   "source": [
    "'''Q9. Write a Python program to count the frequency of\n",
    "each element in a list.'''\n",
    "\n",
    "Input_list = [1, 2, 3, 2, 4, 1, 2, 4, 5]\n",
    "freq={}\n",
    "for i in Input_list:\n",
    "    if i in freq:\n",
    "        freq[i]+=1\n",
    "    else:\n",
    "        freq[i]=1\n",
    "print(freq)"
   ]
  },
  {
   "cell_type": "code",
   "execution_count": 12,
   "id": "c380ca8a",
   "metadata": {},
   "outputs": [
    {
     "name": "stdout",
     "output_type": "stream",
     "text": [
      "programming. Python to Welcome World! Hello, \n"
     ]
    }
   ],
   "source": [
    "'''Q10. Write a Python program to reverse the order of\n",
    "words in a given sentence.'''\n",
    "\n",
    "Input_sentence = \"Hello, World! Welcome to Python programming.\"\n",
    "\n",
    "lst=Input_sentence.split()\n",
    "rev_lst=lst[::-1]\n",
    "\n",
    "output_sentence=\"\"\n",
    "\n",
    "for i in rev_lst:\n",
    "    output_sentence += i + \" \"\n",
    "    \n",
    "print(output_sentence)\n"
   ]
  },
  {
   "cell_type": "code",
   "execution_count": null,
   "id": "0fd7aa62",
   "metadata": {},
   "outputs": [
    {
     "name": "stdout",
     "output_type": "stream",
     "text": [
      "6\n"
     ]
    }
   ],
   "source": [
    "'''Q11. Write a Python program to calculate the sum of\n",
    "digits of a given number until the sum becomes a\n",
    "single-digit number.'''\n",
    "\n",
    "def find_sum(num:int):\n",
    "    if(num<10):\n",
    "        return num\n",
    "    sum=0\n",
    "    while(num>0):\n",
    "        temp=num%10\n",
    "        sum+=temp\n",
    "        num//=10\n",
    "    return find_sum(sum)\n",
    "\n",
    "num=int(input(\"Enter Number: \"))\n",
    "print(find_sum(num))\n"
   ]
  },
  {
   "cell_type": "code",
   "execution_count": 13,
   "id": "c7370103",
   "metadata": {},
   "outputs": [
    {
     "name": "stdout",
     "output_type": "stream",
     "text": [
      "Reverse of 12345 is 54321\n"
     ]
    }
   ],
   "source": [
    "'''Q12. Write a Python program to reverse a number using\n",
    "a while loop.\n",
    "'''\n",
    "def reverse_num(num:int):\n",
    "    rev_num=0\n",
    "    while(num>0):\n",
    "        temp=num%10\n",
    "        rev_num=rev_num*10+temp\n",
    "        num//=10   # / is float division \n",
    "    return rev_num\n",
    "        \n",
    "num=int(input(\"Enter Number: \"))\n",
    "\n",
    "print(f\"Reverse of {num} is {reverse_num(num)}\")\n"
   ]
  }
 ],
 "metadata": {
  "kernelspec": {
   "display_name": ".venv",
   "language": "python",
   "name": "python3"
  },
  "language_info": {
   "codemirror_mode": {
    "name": "ipython",
    "version": 3
   },
   "file_extension": ".py",
   "mimetype": "text/x-python",
   "name": "python",
   "nbconvert_exporter": "python",
   "pygments_lexer": "ipython3",
   "version": "3.11.3"
  }
 },
 "nbformat": 4,
 "nbformat_minor": 5
}
